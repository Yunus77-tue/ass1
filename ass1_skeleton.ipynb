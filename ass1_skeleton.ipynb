{
 "cells": [
  {
   "cell_type": "markdown",
   "metadata": {},
   "source": [
    "# Assignment 1 2AMM10 2023-2024\n",
    "\n",
    "## Group: [Fill in your group name]\n",
    "### Member 1: [Fill in your name]\n",
    "### Member 2: [Fill in your name]\n",
    "### Member 3: [Fill in your name]"
   ]
  },
  {
   "cell_type": "code",
   "execution_count": null,
   "metadata": {},
   "outputs": [],
   "source": [
    "import os\n",
    "import pandas as pd\n",
    "import torch \n",
    "from torch.utils.data import Dataset\n",
    "from matplotlib import pyplot as plt\n",
    "from PIL import Image\n",
    "import numpy as np\n",
    "from torchvision import transforms\n",
    "import kagglehub\n",
    "# add additonal imports here\n",
    "class FashionDataset(Dataset):\n",
    "    def __init__(self, csv_file, img_dir,column_class=\"articleTypeId\", transform=None):\n",
    "        \"\"\"\n",
    "        Args:\n",
    "            csv_file (str): Path to the CSV file with labels.\n",
    "            img_dir (str): Directory with all the images.\n",
    "            transform (callable, optional): Optional transform to be applied on a sample.\n",
    "        \"\"\"\n",
    "        self.df = pd.read_csv(csv_file)  # load CSV file\n",
    "        self.img_dir = img_dir  # image folder path\n",
    "        self.transform = transform  # image transformations\n",
    "        self.targets = list(self.df[column_class].values)\n",
    "\n",
    "\n",
    "    def __len__(self):\n",
    "        return len(self.targets)\n",
    "\n",
    "    def __getitem__(self, idx):\n",
    "        img_name = os.path.join(self.img_dir, f\"{self.df.loc[idx,'imageId']}.jpg\")  # Get image filename\n",
    "        image = Image.open(img_name).convert(\"RGB\")  # Load image\n",
    "\n",
    "        if self.transform:\n",
    "            image = self.transform(image)  # Apply transformations\n",
    "\n",
    "        return image, self.targets[idx]"
   ]
  },
  {
   "cell_type": "markdown",
   "metadata": {},
   "source": [
    "Download data with kagglehub"
   ]
  },
  {
   "cell_type": "code",
   "execution_count": null,
   "metadata": {},
   "outputs": [],
   "source": [
    "dataset_path = kagglehub.dataset_download(\"paramaggarwal/fashion-product-images-small\")\n",
    "img_dir = os.path.join(dataset_path,\"images\")"
   ]
  },
  {
   "cell_type": "markdown",
   "metadata": {},
   "source": [
    "The different datasets can be loaded using the class `FashionDataset` which is a custon PyTorch dataset (see [Datasets & DataLoaders](https://pytorch.org/tutorials/beginner/basics/data_tutorial.html) for more information). Below an example of how to use the `FashionDataset` constructor as well as some visualizations. Please note that you may have to adapt the arguments to match the strucucture of your working directory."
   ]
  },
  {
   "cell_type": "code",
   "execution_count": null,
   "metadata": {},
   "outputs": [],
   "source": [
    "dataset = FashionDataset(\"dataset/train.csv\",img_dir)"
   ]
  },
  {
   "cell_type": "code",
   "execution_count": null,
   "metadata": {},
   "outputs": [],
   "source": [
    "dataset.df.head()"
   ]
  },
  {
   "cell_type": "code",
   "execution_count": null,
   "metadata": {},
   "outputs": [],
   "source": [
    "np.random.seed(42)\n",
    "random_indices = np.random.choice(len(dataset),3)\n",
    "\n",
    "for i in random_indices:\n",
    "    img, label = dataset[i]\n",
    "    plt.title(dataset.df.iloc[i][\"articleTypeName\"]+f\" ({label.item()})\")\n",
    "    plt.imshow(img)\n",
    "    plt.show()"
   ]
  },
  {
   "cell_type": "markdown",
   "metadata": {},
   "source": [
    "## Loading different datasets"
   ]
  },
  {
   "cell_type": "code",
   "execution_count": null,
   "metadata": {},
   "outputs": [],
   "source": [
    "transform = transforms.Compose([\n",
    "    ... # your image transformations \n",
    "]) \n",
    "train_dataset = FashionDataset(\"dataset/train.csv\",img_dir,transform=transform)\n",
    "main_test_dataset =  FashionDataset(\"dataset/main_test.csv\",img_dir,transform=transform)\n",
    "new_test_dataset =  FashionDataset(\"dataset/new_test.csv\",img_dir,transform=transform)\n",
    "main_support_dataset =  FashionDataset(\"dataset/main_support.csv\",img_dir,transform=transform)\n",
    "new_support_dataset =  FashionDataset(\"dataset/new_support.csv\",img_dir,transform=transform)\n",
    "merged_test_dataset =  FashionDataset(\"dataset/merged_test.csv\",img_dir,transform=transform) # merged corresponds to main+new\n",
    "merged_support_dataset =  FashionDataset(\"dataset/merged_support.csv\",img_dir,transform=transform)\n",
    "\n",
    "# datasets with categories\n",
    "main_test_dataset_cat =  FashionDataset(\"dataset/main_test.csv\",img_dir,column_class=\"categoryId\",transform=transform)\n",
    "main_support_dataset_cat =  FashionDataset(\"dataset/main_support.csv\",img_dir,column_class=\"categoryId\",transform=transform)\n",
    "\n",
    "\n",
    "label_id_to_label_name = {i: train_dataset.df[train_dataset.df[\"articleTypeId\"]==i][\"articleTypeName\"].iloc[0] for i in range(39)} \n",
    "label_id_to_label_name.update({i: new_test_dataset.df[new_test_dataset.df[\"articleTypeId\"]==i][\"articleTypeName\"].iloc[0] for i in range(39,39+30)})"
   ]
  },
  {
   "cell_type": "markdown",
   "metadata": {},
   "source": [
    "## Task 1"
   ]
  },
  {
   "cell_type": "code",
   "execution_count": null,
   "metadata": {},
   "outputs": [],
   "source": [
    "# your solution\n",
    "# train dataset: train_dataset\n",
    "# test datset: main_test_dataset"
   ]
  },
  {
   "cell_type": "code",
   "execution_count": null,
   "metadata": {},
   "outputs": [],
   "source": []
  },
  {
   "cell_type": "code",
   "execution_count": null,
   "metadata": {},
   "outputs": [],
   "source": []
  },
  {
   "cell_type": "markdown",
   "metadata": {},
   "source": [
    "## Task 2"
   ]
  },
  {
   "cell_type": "code",
   "execution_count": null,
   "metadata": {},
   "outputs": [],
   "source": [
    "# your solution\n",
    "# train dataset: train_dataset\n",
    "# test and support dataset: see scenarios table"
   ]
  },
  {
   "cell_type": "code",
   "execution_count": null,
   "metadata": {},
   "outputs": [],
   "source": []
  },
  {
   "cell_type": "code",
   "execution_count": null,
   "metadata": {},
   "outputs": [],
   "source": []
  },
  {
   "cell_type": "markdown",
   "metadata": {},
   "source": [
    "## Task 3"
   ]
  },
  {
   "cell_type": "code",
   "execution_count": null,
   "metadata": {},
   "outputs": [],
   "source": [
    "# your solution\n",
    "# test dataset: merged_test_dataset\n",
    "# support/catalog dataset: support_test_dataset"
   ]
  },
  {
   "cell_type": "code",
   "execution_count": null,
   "metadata": {},
   "outputs": [],
   "source": []
  },
  {
   "cell_type": "code",
   "execution_count": null,
   "metadata": {},
   "outputs": [],
   "source": []
  },
  {
   "cell_type": "markdown",
   "metadata": {},
   "source": [
    "## Task 4"
   ]
  },
  {
   "cell_type": "code",
   "execution_count": null,
   "metadata": {},
   "outputs": [],
   "source": [
    "# your solution\n",
    "# datasets: first 10 classes of train_dataset and main_test_dataset"
   ]
  },
  {
   "cell_type": "code",
   "execution_count": null,
   "metadata": {},
   "outputs": [],
   "source": []
  },
  {
   "cell_type": "code",
   "execution_count": null,
   "metadata": {},
   "outputs": [],
   "source": []
  }
 ],
 "metadata": {
  "kernelspec": {
   "display_name": "Python 3",
   "language": "python",
   "name": "python3"
  },
  "language_info": {
   "codemirror_mode": {
    "name": "ipython",
    "version": 3
   },
   "file_extension": ".py",
   "mimetype": "text/x-python",
   "name": "python",
   "nbconvert_exporter": "python",
   "pygments_lexer": "ipython3",
   "version": "3.13.2"
  }
 },
 "nbformat": 4,
 "nbformat_minor": 2
}
