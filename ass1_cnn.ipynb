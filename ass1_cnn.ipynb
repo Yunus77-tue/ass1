{
  "cells": [
    {
      "cell_type": "markdown",
      "metadata": {
        "id": "HBH19f_A_IIh"
      },
      "source": [
        "# Assignment 1 2AMM10 2023-2024\n",
        "\n",
        "## Group: [Fill in your group name]\n",
        "### Member 1: [Fill in your name]\n",
        "### Member 2: [Fill in your name]\n",
        "### Member 3: [Fill in your name]"
      ]
    },
    {
      "cell_type": "code",
      "execution_count": 1,
      "metadata": {
        "id": "sKaROUew_IIj"
      },
      "outputs": [],
      "source": [
        "import os\n",
        "import pandas as pd\n",
        "import torch\n",
        "from torch.utils.data import Dataset\n",
        "from matplotlib import pyplot as plt\n",
        "from PIL import Image\n",
        "import numpy as np\n",
        "from torchvision import transforms\n",
        "import kagglehub\n",
        "# add additonal imports here\n",
        "class FashionDataset(Dataset):\n",
        "    def __init__(self, csv_file, img_dir,column_class=\"articleTypeId\", transform=None):\n",
        "        \"\"\"\n",
        "        Args:\n",
        "            csv_file (str): Path to the CSV file with labels.\n",
        "            img_dir (str): Directory with all the images.\n",
        "            transform (callable, optional): Optional transform to be applied on a sample.\n",
        "        \"\"\"\n",
        "        self.df = pd.read_csv(csv_file)  # load CSV file\n",
        "        self.img_dir = img_dir  # image folder path\n",
        "        self.transform = transform  # image transformations\n",
        "        self.targets = list(self.df[column_class].values)\n",
        "\n",
        "\n",
        "    def __len__(self):\n",
        "        return len(self.targets)\n",
        "\n",
        "    def __getitem__(self, idx):\n",
        "        img_name = os.path.join(self.img_dir, f\"{self.df.loc[idx,'imageId']}.jpg\")  # Get image filename\n",
        "        image = Image.open(img_name).convert(\"RGB\")  # Load image\n",
        "\n",
        "        if self.transform:\n",
        "            image = self.transform(image)  # Apply transformations\n",
        "\n",
        "        return image, self.targets[idx]"
      ]
    },
    {
      "cell_type": "code",
      "execution_count": 2,
      "metadata": {
        "colab": {
          "base_uri": "https://localhost:8080/"
        },
        "id": "HBZsvEmZBfBw",
        "outputId": "bed4bc83-6874-4ddd-f09d-e45e86e5e72f"
      },
      "outputs": [
        {
          "name": "stdout",
          "output_type": "stream",
          "text": [
            "Mounted at /content/drive\n",
            "/content/drive/MyDrive/ColabNotebooks/data/Deep_learning\n",
            "Now in: /content/drive/MyDrive/ColabNotebooks/data/Deep_learning\n"
          ]
        }
      ],
      "source": [
        "from google.colab import drive\n",
        "drive.mount('/content/drive')\n",
        "\n",
        "%cd /content/drive/MyDrive/ColabNotebooks/data/Deep_learning\n",
        "\n",
        "import os\n",
        "print(\"Now in:\", os.getcwd())"
      ]
    },
    {
      "cell_type": "markdown",
      "metadata": {
        "id": "CNxRCKFw_IIl"
      },
      "source": [
        "Download data with kagglehub"
      ]
    },
    {
      "cell_type": "code",
      "execution_count": 3,
      "metadata": {
        "id": "cwpphN-m_IIl"
      },
      "outputs": [],
      "source": [
        "dataset_path = kagglehub.dataset_download(\"paramaggarwal/fashion-product-images-small\")\n",
        "img_dir = os.path.join(dataset_path,\"images\")"
      ]
    },
    {
      "cell_type": "markdown",
      "metadata": {
        "id": "wZYcIQX5_IIl"
      },
      "source": [
        "The different datasets can be loaded using the class `FashionDataset` which is a custon PyTorch dataset (see [Datasets & DataLoaders](https://pytorch.org/tutorials/beginner/basics/data_tutorial.html) for more information). Below an example of how to use the `FashionDataset` constructor as well as some visualizations. Please note that you may have to adapt the arguments to match the strucucture of your working directory."
      ]
    },
    {
      "cell_type": "code",
      "execution_count": 4,
      "metadata": {
        "id": "_UkC8Hgl_IIm"
      },
      "outputs": [],
      "source": [
        "dataset = FashionDataset(\"dataset/train.csv\",img_dir)"
      ]
    },
    {
      "cell_type": "code",
      "execution_count": null,
      "metadata": {
        "id": "JMwq7cGK_IIm",
        "outputId": "ea13553a-b82e-4efd-ef31-d1e7e6f0c775"
      },
      "outputs": [
        {
          "data": {
            "application/vnd.microsoft.datawrangler.viewer.v0+json": {
              "columns": [
                {
                  "name": "index",
                  "rawType": "int64",
                  "type": "integer"
                },
                {
                  "name": "imageId",
                  "rawType": "int64",
                  "type": "integer"
                },
                {
                  "name": "articleTypeName",
                  "rawType": "object",
                  "type": "string"
                },
                {
                  "name": "categoryName",
                  "rawType": "object",
                  "type": "string"
                },
                {
                  "name": "articleTypeId",
                  "rawType": "int64",
                  "type": "integer"
                },
                {
                  "name": "categoryId",
                  "rawType": "int64",
                  "type": "integer"
                }
              ],
              "conversionMethod": "pd.DataFrame",
              "ref": "94a977f4-eadf-4b65-9f72-08452e7d5081",
              "rows": [
                [
                  "0",
                  "35180",
                  "Backpacks",
                  "Bags",
                  "15",
                  "2"
                ],
                [
                  "1",
                  "33585",
                  "Tshirts",
                  "Topwear",
                  "0",
                  "0"
                ],
                [
                  "2",
                  "9464",
                  "Shirts",
                  "Topwear",
                  "1",
                  "0"
                ],
                [
                  "3",
                  "8194",
                  "Shirts",
                  "Topwear",
                  "1",
                  "0"
                ],
                [
                  "4",
                  "42231",
                  "Tops",
                  "Topwear",
                  "6",
                  "0"
                ]
              ],
              "shape": {
                "columns": 5,
                "rows": 5
              }
            },
            "text/html": [
              "<div>\n",
              "<style scoped>\n",
              "    .dataframe tbody tr th:only-of-type {\n",
              "        vertical-align: middle;\n",
              "    }\n",
              "\n",
              "    .dataframe tbody tr th {\n",
              "        vertical-align: top;\n",
              "    }\n",
              "\n",
              "    .dataframe thead th {\n",
              "        text-align: right;\n",
              "    }\n",
              "</style>\n",
              "<table border=\"1\" class=\"dataframe\">\n",
              "  <thead>\n",
              "    <tr style=\"text-align: right;\">\n",
              "      <th></th>\n",
              "      <th>imageId</th>\n",
              "      <th>articleTypeName</th>\n",
              "      <th>categoryName</th>\n",
              "      <th>articleTypeId</th>\n",
              "      <th>categoryId</th>\n",
              "    </tr>\n",
              "  </thead>\n",
              "  <tbody>\n",
              "    <tr>\n",
              "      <th>0</th>\n",
              "      <td>35180</td>\n",
              "      <td>Backpacks</td>\n",
              "      <td>Bags</td>\n",
              "      <td>15</td>\n",
              "      <td>2</td>\n",
              "    </tr>\n",
              "    <tr>\n",
              "      <th>1</th>\n",
              "      <td>33585</td>\n",
              "      <td>Tshirts</td>\n",
              "      <td>Topwear</td>\n",
              "      <td>0</td>\n",
              "      <td>0</td>\n",
              "    </tr>\n",
              "    <tr>\n",
              "      <th>2</th>\n",
              "      <td>9464</td>\n",
              "      <td>Shirts</td>\n",
              "      <td>Topwear</td>\n",
              "      <td>1</td>\n",
              "      <td>0</td>\n",
              "    </tr>\n",
              "    <tr>\n",
              "      <th>3</th>\n",
              "      <td>8194</td>\n",
              "      <td>Shirts</td>\n",
              "      <td>Topwear</td>\n",
              "      <td>1</td>\n",
              "      <td>0</td>\n",
              "    </tr>\n",
              "    <tr>\n",
              "      <th>4</th>\n",
              "      <td>42231</td>\n",
              "      <td>Tops</td>\n",
              "      <td>Topwear</td>\n",
              "      <td>6</td>\n",
              "      <td>0</td>\n",
              "    </tr>\n",
              "  </tbody>\n",
              "</table>\n",
              "</div>"
            ],
            "text/plain": [
              "   imageId articleTypeName categoryName  articleTypeId  categoryId\n",
              "0    35180       Backpacks         Bags             15           2\n",
              "1    33585         Tshirts      Topwear              0           0\n",
              "2     9464          Shirts      Topwear              1           0\n",
              "3     8194          Shirts      Topwear              1           0\n",
              "4    42231            Tops      Topwear              6           0"
            ]
          },
          "execution_count": 5,
          "metadata": {},
          "output_type": "execute_result"
        }
      ],
      "source": [
        "dataset.df.head()"
      ]
    },
    {
      "cell_type": "code",
      "execution_count": 23,
      "metadata": {
        "colab": {
          "base_uri": "https://localhost:8080/",
          "height": 1000
        },
        "id": "-w3qDqIB_IIm",
        "outputId": "deb204a5-cd0c-4d00-debb-432e9a9149a3"
      },
      "outputs": [
        {
          "data": {
            "image/png": "[encoded data removed]",
            "text/plain": [
              "<Figure size 640x480 with 1 Axes>"
            ]
          },
          "metadata": {},
          "output_type": "display_data"
        },
        {
          "data": {
            "image/png": "[encoded data removed]",
            "text/plain": [
              "<Figure size 640x480 with 1 Axes>"
            ]
          },
          "metadata": {},
          "output_type": "display_data"
        },
        {
          "data": {
            "image/png": "[encoded data removed]",
            "text/plain": [
              "<Figure size 640x480 with 1 Axes>"
            ]
          },
          "metadata": {},
          "output_type": "display_data"
        }
      ],
      "source": [
        "np.random.seed(42)\n",
        "random_indices = np.random.choice(len(dataset),3)\n",
        "\n",
        "for i in random_indices:\n",
        "    img, label = dataset[i]\n",
        "    plt.title(dataset.df.iloc[i][\"articleTypeName\"]+f\" ({label.item()})\")\n",
        "    plt.imshow(img)\n",
        "    plt.show()"
      ]
    },
    {
      "cell_type": "markdown",
      "metadata": {
        "id": "K280lvQY_IIm"
      },
      "source": [
        "## Loading different datasets"
      ]
    },
    {
      "cell_type": "code",
      "execution_count": 18,
      "metadata": {
        "id": "2TWaBdfR_IIn"
      },
      "outputs": [],
      "source": [
        "transform = transforms.Compose([\n",
        "    transforms.Resize((80, 80)), #resize to 80x80, because the original images have different sizes\n",
        "    transforms.ToTensor(),\n",
        "    transforms.Normalize(mean=[0.5] * 3, std=[0.5] * 3),\n",
        "])\n",
        "train_dataset = FashionDataset(\"dataset/train.csv\",img_dir,transform=transform)\n",
        "main_test_dataset =  FashionDataset(\"dataset/main_test.csv\",img_dir,transform=transform)\n",
        "new_test_dataset =  FashionDataset(\"dataset/new_test.csv\",img_dir,transform=transform)\n",
        "main_support_dataset =  FashionDataset(\"dataset/main_support.csv\",img_dir,transform=transform)\n",
        "new_support_dataset =  FashionDataset(\"dataset/new_support.csv\",img_dir,transform=transform)\n",
        "merged_test_dataset =  FashionDataset(\"dataset/merged_test.csv\",img_dir,transform=transform) # merged corresponds to main+new\n",
        "merged_support_dataset =  FashionDataset(\"dataset/merged_support.csv\",img_dir,transform=transform)\n",
        "\n",
        "# datasets with categories\n",
        "main_test_dataset_cat =  FashionDataset(\"dataset/main_test.csv\",img_dir,column_class=\"categoryId\",transform=transform)\n",
        "main_support_dataset_cat =  FashionDataset(\"dataset/main_support.csv\",img_dir,column_class=\"categoryId\",transform=transform)\n",
        "\n",
        "\n",
        "label_id_to_label_name = {i: train_dataset.df[train_dataset.df[\"articleTypeId\"]==i][\"articleTypeName\"].iloc[0] for i in range(39)}\n",
        "label_id_to_label_name.update({i: new_test_dataset.df[new_test_dataset.df[\"articleTypeId\"]==i][\"articleTypeName\"].iloc[0] for i in range(39,39+30)})"
      ]
    },
    {
      "cell_type": "markdown",
      "metadata": {
        "id": "IW9lPWtJ_IIn"
      },
      "source": [
        "## Task 1"
      ]
    },
    {
      "cell_type": "code",
      "execution_count": 6,
      "metadata": {
        "id": "6ExKVPr1_IIn"
      },
      "outputs": [],
      "source": [
        "#IMPORT ALL THE REQUIRED LIBRARIES\n",
        "\n",
        "import torch\n",
        "import torch.nn as nn\n",
        "import torch.nn.functional as F\n",
        "from torch import optim\n",
        "from tqdm import tqdm\n",
        "import torchvision.models as models\n",
        "import torchvision.transforms as transforms\n",
        "from torch import nn\n",
        "from torch import nn\n",
        "from torch.utils.data import DataLoader, random_split\n",
        "from torchvision import datasets, transforms\n",
        "from sklearn.metrics import accuracy_score, balanced_accuracy_score\n"
      ]
    },
    {
      "cell_type": "markdown",
      "metadata": {},
      "source": [
        "### Model Architecture"
      ]
    },
    {
      "cell_type": "code",
      "execution_count": 22,
      "metadata": {
        "id": "Ard2DDyo_IIo"
      },
      "outputs": [],
      "source": [
        "class CNN(nn.Module):\n",
        "    def __init__(self, num_classes, bw = 32, lr= 0.001):\n",
        "        super().__init__()\n",
        "\n",
        "        self.features = nn.Sequential(\n",
        "            nn.Conv2d(3,  bw,  kernel_size=3, padding=1),\n",
        "            nn.BatchNorm2d(bw),\n",
        "            nn.ReLU(),\n",
        "\n",
        "            nn.Conv2d(bw, bw, kernel_size=3, padding=1),\n",
        "            nn.BatchNorm2d(bw),\n",
        "            nn.ReLU(),\n",
        "            nn.MaxPool2d(2),\n",
        "\n",
        "            nn.Conv2d(bw, bw*2, kernel_size=3, padding=1),\n",
        "            nn.BatchNorm2d(bw*2),\n",
        "            nn.ReLU(),\n",
        "\n",
        "            nn.Conv2d(bw*2, bw*2, kernel_size=3, padding=1),\n",
        "            nn.BatchNorm2d(bw*2),\n",
        "            nn.ReLU(),\n",
        "            nn.MaxPool2d(2),\n",
        "\n",
        "            nn.Conv2d(bw*2, bw*4, kernel_size=3, padding=1),\n",
        "            nn.BatchNorm2d(bw*4),\n",
        "            nn.ReLU(),\n",
        "\n",
        "            nn.AdaptiveAvgPool2d(1),\n",
        "        )\n",
        "\n",
        "        self.classifier = nn.Sequential(\n",
        "            nn.Flatten(),\n",
        "            nn.Dropout(p = 0.3),\n",
        "            nn.Linear(bw*4, num_classes)\n",
        "        )\n",
        "\n",
        "        self.criterion = nn.CrossEntropyLoss(label_smoothing=0.1)\n",
        "\n",
        "    def forward(self, x):\n",
        "        x = self.features(x)\n",
        "        x = self.classifier(x)\n",
        "        return x\n",
        "\n",
        "\n"
      ]
    },
    {
      "cell_type": "markdown",
      "metadata": {},
      "source": [
        "### Helper Functions"
      ]
    },
    {
      "cell_type": "code",
      "execution_count": null,
      "metadata": {
        "id": "E9Y2Ejov_IIo"
      },
      "outputs": [],
      "source": [
        "#import with data loaders\n",
        "def get_data(train_ds, valid_ds, batch_size=64):\n",
        "    train_dl = DataLoader(train_ds, batch_size=batch_size, shuffle=True, num_workers=4)\n",
        "    valid_dl = DataLoader(valid_ds, batch_size=batch_size, shuffle=False, num_workers=4)\n",
        "    return train_dl, valid_dl\n",
        "\n",
        "def loss_batch(model, loss_func, xb, yb, opt=None):\n",
        "\n",
        "    output=model(xb)\n",
        "    loss = loss_func(output, yb)\n",
        "\n",
        "    if opt is not None:\n",
        "        loss.backward()\n",
        "        opt.step()\n",
        "        opt.zero_grad()\n",
        "\n",
        "    _, preds = torch.max(output, 1)\n",
        "    corrects = torch.sum(preds == yb.data)\n",
        "\n",
        "\n",
        "    return loss.item(), corrects, len(xb), preds, yb\n",
        "\n",
        "\n",
        "def fit(epochs, model, loss_func, opt, scheduler, train_dl, valid_dl):\n",
        "    # Move model to GPU if available\n",
        "    device = torch.device(\"cuda\" if torch.cuda.is_available() else \"cpu\")\n",
        "    model.to(device)\n",
        "    print(f\"Using device: {device}\")\n",
        "\n",
        "    for epoch in tqdm(range(epochs)):\n",
        "\n",
        "\n",
        "        # training process\n",
        "        model.train()\n",
        "\n",
        "        running_loss = 0.0\n",
        "        running_corrects = 0\n",
        "        sample_num=0\n",
        "        for xb, yb in train_dl:\n",
        "\n",
        "            # move data to GPU if available\n",
        "            xb = xb.to(device)\n",
        "            yb = yb.to(device)\n",
        "\n",
        "            # forward\n",
        "            # backward and optimize only if in training phase\n",
        "            losses, corrects, nums, *_ = loss_batch(model, loss_func, xb, yb,opt)\n",
        "\n",
        "            # statistics\n",
        "            running_loss += losses * xb.size(0)\n",
        "            running_corrects += corrects\n",
        "            sample_num+=nums\n",
        "\n",
        "        train_loss = running_loss / sample_num\n",
        "        train_acc = running_corrects.double() / sample_num\n",
        "\n",
        "\n",
        "        # validation process\n",
        "        model.eval()\n",
        "        with torch.no_grad():\n",
        "            running_loss = 0.0\n",
        "            running_corrects = 0\n",
        "            sample_num=0\n",
        "\n",
        "            all_preds, all_trues = [], []\n",
        "\n",
        "            for xb, yb in valid_dl:\n",
        "\n",
        "                xb = xb.to(device)\n",
        "                yb = yb.to(device)\n",
        "\n",
        "\n",
        "                # forward\n",
        "                losses, corrects, nums, preds, yb = loss_batch(model, loss_func, xb, yb)\n",
        "\n",
        "                # statistics\n",
        "                running_loss += losses * xb.size(0)\n",
        "                running_corrects += corrects\n",
        "                sample_num+=nums\n",
        "\n",
        "                all_preds.append(preds.cpu())\n",
        "                all_trues.append(yb.cpu())\n",
        "\n",
        "\n",
        "\n",
        "            val_loss = running_loss / sample_num\n",
        "            val_acc = running_corrects.double()/ sample_num\n",
        "            bacc = balanced_accuracy_score(torch.cat(all_trues), torch.cat(all_preds))\n",
        "\n",
        "            scheduler.step(val_loss) # decrease the learning rate if validation loss increases\n",
        "\n",
        "\n",
        "        # print the results\n",
        "        print(\n",
        "            f'EPOCH with LR {scheduler.get_last_lr()[0]}: {epoch+1:0>{len(str(epochs))}}/{epochs}',\n",
        "            end=' '\n",
        "        )\n",
        "        print(f'LOSS: {train_loss:.4f}',f'ACC: {train_acc:.4f} ',end=' ')\n",
        "        print(f'VAL-LOSS: {val_loss:.4f}',f'VAL-ACC: {val_acc:.4f} ', f\"VAL-BACC: {bacc:.4f} \",end='\\n')\n",
        "\n",
        "        if val_acc >= 0.8 and bacc >= 0.8:\n",
        "          print(\"Early Stopping\")\n",
        "          break\n"
      ]
    },
    {
      "cell_type": "markdown",
      "metadata": {},
      "source": [
        "### Training the model"
      ]
    },
    {
      "cell_type": "code",
      "execution_count": null,
      "metadata": {
        "colab": {
          "base_uri": "https://localhost:8080/"
        },
        "id": "3HtjPu8R_IIo",
        "outputId": "fc049d34-0d10-4086-f8d9-5c419d64e989"
      },
      "outputs": [
        {
          "name": "stdout",
          "output_type": "stream",
          "text": [
            "Using device: cuda\n"
          ]
        },
        {
          "name": "stderr",
          "output_type": "stream",
          "text": [
            "  1%|          | 1/100 [00:22<37:11, 22.54s/it]"
          ]
        },
        {
          "name": "stdout",
          "output_type": "stream",
          "text": [
            "EPOCH with LR 0.01: 001/100 LOSS: 0.4121 ACC: 0.8630  VAL-LOSS: 0.4043 VAL-ACC: 0.8678  VAL-BACC: 0.7810 \n"
          ]
        },
        {
          "name": "stderr",
          "output_type": "stream",
          "text": [
            "\r  2%|▏         | 2/100 [00:45<37:04, 22.70s/it]"
          ]
        },
        {
          "name": "stdout",
          "output_type": "stream",
          "text": [
            "EPOCH with LR 0.01: 002/100 LOSS: 0.3970 ACC: 0.8658  VAL-LOSS: 0.4106 VAL-ACC: 0.8703  VAL-BACC: 0.7836 \n"
          ]
        },
        {
          "name": "stderr",
          "output_type": "stream",
          "text": [
            "\r  3%|▎         | 3/100 [01:07<36:32, 22.60s/it]"
          ]
        },
        {
          "name": "stdout",
          "output_type": "stream",
          "text": [
            "EPOCH with LR 0.01: 003/100 LOSS: 0.3876 ACC: 0.8702  VAL-LOSS: 0.4103 VAL-ACC: 0.8663  VAL-BACC: 0.7722 \n"
          ]
        },
        {
          "name": "stderr",
          "output_type": "stream",
          "text": [
            "\r  4%|▍         | 4/100 [01:30<36:04, 22.55s/it]"
          ]
        },
        {
          "name": "stdout",
          "output_type": "stream",
          "text": [
            "EPOCH with LR 0.01: 004/100 LOSS: 0.3838 ACC: 0.8726  VAL-LOSS: 0.3844 VAL-ACC: 0.8768  VAL-BACC: 0.7926 \n"
          ]
        },
        {
          "name": "stderr",
          "output_type": "stream",
          "text": [
            "\r  5%|▌         | 5/100 [01:52<35:43, 22.57s/it]"
          ]
        },
        {
          "name": "stdout",
          "output_type": "stream",
          "text": [
            "EPOCH with LR 0.01: 005/100 LOSS: 0.3798 ACC: 0.8743  VAL-LOSS: 0.3943 VAL-ACC: 0.8763  VAL-BACC: 0.7961 \n"
          ]
        },
        {
          "name": "stderr",
          "output_type": "stream",
          "text": [
            "\r  6%|▌         | 6/100 [02:15<35:22, 22.58s/it]"
          ]
        },
        {
          "name": "stdout",
          "output_type": "stream",
          "text": [
            "EPOCH with LR 0.01: 006/100 LOSS: 0.3751 ACC: 0.8744  VAL-LOSS: 0.3986 VAL-ACC: 0.8718  VAL-BACC: 0.7802 \n"
          ]
        },
        {
          "name": "stderr",
          "output_type": "stream",
          "text": [
            "\r  7%|▋         | 7/100 [02:38<34:59, 22.57s/it]"
          ]
        },
        {
          "name": "stdout",
          "output_type": "stream",
          "text": [
            "EPOCH with LR 0.01: 007/100 LOSS: 0.3733 ACC: 0.8753  VAL-LOSS: 0.3873 VAL-ACC: 0.8783  VAL-BACC: 0.7999 \n"
          ]
        },
        {
          "name": "stderr",
          "output_type": "stream",
          "text": [
            "\r  8%|▊         | 8/100 [03:00<34:34, 22.55s/it]"
          ]
        },
        {
          "name": "stdout",
          "output_type": "stream",
          "text": [
            "EPOCH with LR 0.01: 008/100 LOSS: 0.3695 ACC: 0.8775  VAL-LOSS: 0.4030 VAL-ACC: 0.8698  VAL-BACC: 0.7844 \n"
          ]
        },
        {
          "name": "stderr",
          "output_type": "stream",
          "text": [
            "\r  9%|▉         | 9/100 [03:23<34:12, 22.55s/it]"
          ]
        },
        {
          "name": "stdout",
          "output_type": "stream",
          "text": [
            "EPOCH with LR 0.01: 009/100 LOSS: 0.3679 ACC: 0.8774  VAL-LOSS: 0.3943 VAL-ACC: 0.8743  VAL-BACC: 0.7990 \n"
          ]
        },
        {
          "name": "stderr",
          "output_type": "stream",
          "text": [
            "\r 10%|█         | 10/100 [03:45<33:49, 22.55s/it]"
          ]
        },
        {
          "name": "stdout",
          "output_type": "stream",
          "text": [
            "EPOCH with LR 0.01: 010/100 LOSS: 0.3653 ACC: 0.8759  VAL-LOSS: 0.3841 VAL-ACC: 0.8768  VAL-BACC: 0.7992 \n"
          ]
        },
        {
          "name": "stderr",
          "output_type": "stream",
          "text": [
            "\r 11%|█         | 11/100 [04:08<33:25, 22.54s/it]"
          ]
        },
        {
          "name": "stdout",
          "output_type": "stream",
          "text": [
            "EPOCH with LR 0.01: 011/100 LOSS: 0.3606 ACC: 0.8801  VAL-LOSS: 0.3923 VAL-ACC: 0.8718  VAL-BACC: 0.7854 \n"
          ]
        },
        {
          "name": "stderr",
          "output_type": "stream",
          "text": [
            "\r 12%|█▏        | 12/100 [04:30<33:03, 22.54s/it]"
          ]
        },
        {
          "name": "stdout",
          "output_type": "stream",
          "text": [
            "EPOCH with LR 0.01: 012/100 LOSS: 0.3601 ACC: 0.8806  VAL-LOSS: 0.3957 VAL-ACC: 0.8663  VAL-BACC: 0.7827 \n"
          ]
        },
        {
          "name": "stderr",
          "output_type": "stream",
          "text": [
            "\r 13%|█▎        | 13/100 [04:53<32:41, 22.55s/it]"
          ]
        },
        {
          "name": "stdout",
          "output_type": "stream",
          "text": [
            "EPOCH with LR 0.01: 013/100 LOSS: 0.3591 ACC: 0.8807  VAL-LOSS: 0.4045 VAL-ACC: 0.8703  VAL-BACC: 0.7833 \n"
          ]
        },
        {
          "name": "stderr",
          "output_type": "stream",
          "text": [
            "\r 13%|█▎        | 13/100 [05:15<35:13, 24.29s/it]"
          ]
        },
        {
          "name": "stdout",
          "output_type": "stream",
          "text": [
            "EPOCH with LR 0.01: 014/100 LOSS: 0.3570 ACC: 0.8802  VAL-LOSS: 0.3772 VAL-ACC: 0.8803  VAL-BACC: 0.8044 \n",
            "Early Stopping\n"
          ]
        },
        {
          "name": "stderr",
          "output_type": "stream",
          "text": [
            "\n"
          ]
        }
      ],
      "source": [
        "epochs=100 \n",
        "lr = 0.01\n",
        "\n",
        "model = CNN(num_classes=39)\n",
        "# OPTIONAL: load pretrained weights from an earlier run\n",
        "model.load_state_dict(torch.load('models/fashion_model_weights.pth'))\n",
        "\n",
        "opt = optim.SGD(model.parameters(), lr=lr, momentum=0.9)\n",
        "scheduler = torch.optim.lr_scheduler.ReduceLROnPlateau(opt, mode='min', factor=0.1, patience=5) # decrease the learning rate if validation loss increases\n",
        "loss_func = F.cross_entropy\n",
        "\n",
        "train_dl, valid_dl = get_data(train_dataset, main_test_dataset, batch_size=526) # you have to decrease batch size for lower RAM gpus/cpus\n",
        "\n",
        "\n",
        "fit(epochs, model, loss_func, opt, scheduler, train_dl, valid_dl)"
      ]
    },
    {
      "cell_type": "markdown",
      "metadata": {},
      "source": [
        "### Saving the model"
      ]
    },
    {
      "cell_type": "code",
      "execution_count": null,
      "metadata": {
        "id": "1RvNGYmA2Hqj"
      },
      "outputs": [],
      "source": [
        "# Save the model's state dictionary\n",
        "torch.save(model.state_dict(), 'models/fashion_model_weights.pth')"
      ]
    },
    {
      "cell_type": "markdown",
      "metadata": {
        "id": "3e2TrRec_IIp"
      },
      "source": [
        "## Task 2"
      ]
    },
    {
      "cell_type": "code",
      "execution_count": null,
      "metadata": {
        "id": "si0EQD4n_IIp"
      },
      "outputs": [],
      "source": [
        "# your solution\n",
        "# train dataset: train_dataset\n",
        "# test and support dataset: see scenarios table"
      ]
    },
    {
      "cell_type": "code",
      "execution_count": null,
      "metadata": {
        "id": "h1GOArK2_IIp"
      },
      "outputs": [],
      "source": []
    },
    {
      "cell_type": "code",
      "execution_count": null,
      "metadata": {
        "id": "TXlQnQFi_IIp"
      },
      "outputs": [],
      "source": []
    },
    {
      "cell_type": "markdown",
      "metadata": {
        "id": "8ZK2PUiC_IIq"
      },
      "source": [
        "## Task 3"
      ]
    },
    {
      "cell_type": "code",
      "execution_count": null,
      "metadata": {
        "id": "O-_rC88j_IIq"
      },
      "outputs": [],
      "source": [
        "# your solution\n",
        "# test dataset: merged_test_dataset\n",
        "# support/catalog dataset: support_test_dataset"
      ]
    },
    {
      "cell_type": "code",
      "execution_count": null,
      "metadata": {
        "id": "Qh3nB-FS_IIq"
      },
      "outputs": [],
      "source": []
    },
    {
      "cell_type": "code",
      "execution_count": null,
      "metadata": {
        "id": "cBkQLCtV_IIq"
      },
      "outputs": [],
      "source": []
    },
    {
      "cell_type": "markdown",
      "metadata": {
        "id": "cOmHrO7o_IIq"
      },
      "source": [
        "## Task 4"
      ]
    },
    {
      "cell_type": "code",
      "execution_count": null,
      "metadata": {
        "id": "IsBfunSz_IIq"
      },
      "outputs": [],
      "source": [
        "# your solution\n",
        "# datasets: first 10 classes of train_dataset and main_test_dataset"
      ]
    },
    {
      "cell_type": "code",
      "execution_count": null,
      "metadata": {
        "id": "15WoVhJN_IIq"
      },
      "outputs": [],
      "source": []
    },
    {
      "cell_type": "code",
      "execution_count": null,
      "metadata": {
        "id": "7kaxrJMP_IIq"
      },
      "outputs": [],
      "source": []
    }
  ],
  "metadata": {
    "accelerator": "GPU",
    "colab": {
      "gpuType": "T4",
      "machine_shape": "hm",
      "provenance": []
    },
    "kernelspec": {
      "display_name": "Python 3",
      "name": "python3"
    },
    "language_info": {
      "codemirror_mode": {
        "name": "ipython",
        "version": 3
      },
      "file_extension": ".py",
      "mimetype": "text/x-python",
      "name": "python",
      "nbconvert_exporter": "python",
      "pygments_lexer": "ipython3",
      "version": "3.12.4"
    }
  },
  "nbformat": 4,
  "nbformat_minor": 0
}
